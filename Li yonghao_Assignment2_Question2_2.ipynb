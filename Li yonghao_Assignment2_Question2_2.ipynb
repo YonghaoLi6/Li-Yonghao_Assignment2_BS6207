{
 "cells": [
  {
   "cell_type": "markdown",
   "metadata": {},
   "source": [
    "# Question2_2"
   ]
  },
  {
   "cell_type": "code",
   "execution_count": 4,
   "metadata": {},
   "outputs": [
    {
     "data": {
      "text/plain": [
       "[0,\n",
       " 0.3,\n",
       " 0.6000000000000021,\n",
       " 0.9000000000000021,\n",
       " 1.2000000000000035,\n",
       " 1.35348343141804,\n",
       " 1.4101842951299737,\n",
       " 1.3985127716140122,\n",
       " 1.3362158088702167]"
      ]
     },
     "execution_count": 4,
     "metadata": {},
     "output_type": "execute_result"
    }
   ],
   "source": [
    "m,v,m_,v_,theta = [0],[0],[0],[0],[0]\n",
    "b1,b2,a,t = 0.9,0.999,0.3,0\n",
    "for i in range(0,8):\n",
    "    t = t + 1\n",
    "    if(theta[-1]<1):\n",
    "        g = -1\n",
    "    else: g = 1\n",
    "    m.append(b1 * m[-1] + (1 - b1) * g)\n",
    "    v.append(b2 * v[-1] + (1 - b2) * (g**2))\n",
    "    m_.append(m[-1] / (1 - b1**t))\n",
    "    v_.append(v[-1] / (1 - b2**t))\n",
    "    theta.append(theta[-1] - a * m_[-1] * (v_[-1]**0.5))\n",
    "theta"
   ]
  },
  {
   "cell_type": "code",
   "execution_count": null,
   "metadata": {},
   "outputs": [],
   "source": []
  }
 ],
 "metadata": {
  "kernelspec": {
   "display_name": "Python 3",
   "language": "python",
   "name": "python3"
  },
  "language_info": {
   "codemirror_mode": {
    "name": "ipython",
    "version": 3
   },
   "file_extension": ".py",
   "mimetype": "text/x-python",
   "name": "python",
   "nbconvert_exporter": "python",
   "pygments_lexer": "ipython3",
   "version": "3.8.3"
  }
 },
 "nbformat": 4,
 "nbformat_minor": 4
}
